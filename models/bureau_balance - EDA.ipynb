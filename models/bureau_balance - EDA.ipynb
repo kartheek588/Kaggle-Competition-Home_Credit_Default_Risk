{
 "cells": [
  {
   "cell_type": "code",
   "execution_count": 1,
   "metadata": {
    "collapsed": false
   },
   "outputs": [],
   "source": [
    "import os\n",
    "import pandas as pd\n",
    "import numpy as np\n",
    "import  utils.Data_preprocessing as dp\n",
    "from utils.EDA import EDA \n",
    "\n",
    "import matplotlib.pyplot as plt\n",
    "%matplotlib inline\n",
    "\n",
    "\n",
    "import gc\n",
    "gc.enable()\n",
    "PATH = '../input/'\n",
    "Processed = '../input/processed/'\n",
    "directory = os.path.dirname(Processed)\n",
    "if not os.path.exists(directory):\n",
    "    os.makedirs(directory)"
   ]
  },
  {
   "cell_type": "code",
   "execution_count": 2,
   "metadata": {
    "collapsed": true
   },
   "outputs": [],
   "source": [
    "bureau_balance_df = pd.read_csv(PATH+\"bureau_balance.csv\")"
   ]
  },
  {
   "cell_type": "code",
   "execution_count": 3,
   "metadata": {
    "collapsed": false
   },
   "outputs": [
    {
     "name": "stdout",
     "output_type": "stream",
     "text": [
      "******************************************************************************************************************\n",
      "******************************************************************************************************************\n"
     ]
    },
    {
     "data": {
      "text/html": [
       "     COLUMN==> SK_ID_BUREAU     "
      ],
      "text/plain": [
       "<IPython.core.display.HTML object>"
      ]
     },
     "metadata": {},
     "output_type": "display_data"
    },
    {
     "name": "stdout",
     "output_type": "stream",
     "text": [
      "******************************************************************************************************************\n",
      "******************************************************************************************************************\n",
      "--------------------------------------\n",
      "Data Type: number\n",
      "\n",
      "--------------------------------------\n",
      "Describe: \n",
      "\n",
      "count    2.729992e+07\n",
      "mean     6.036297e+06\n",
      "std      4.923489e+05\n",
      "min      5.001709e+06\n",
      "25%      5.730933e+06\n",
      "50%      6.070821e+06\n",
      "75%      6.431951e+06\n",
      "max      6.842888e+06\n",
      "Name: SK_ID_BUREAU, dtype: float64\n",
      "\n",
      "\n"
     ]
    },
    {
     "data": {
      "image/png": "[encoded data removed]",
      "text/plain": [
       "<matplotlib.figure.Figure at 0x1cbfc882160>"
      ]
     },
     "metadata": {},
     "output_type": "display_data"
    },
    {
     "name": "stdout",
     "output_type": "stream",
     "text": [
      "\n",
      "--------------------------------------\n",
      "excess kurtosis of normal distribution (should be 0): -0.7379662656366328\n",
      "skewness of normal distribution (should be 0): -0.3721878119562655\n"
     ]
    },
    {
     "data": {
      "text/html": [
       "SK_ID_BUREAU is <b>Left skewed</b> ==> -0.3721878119562655"
      ],
      "text/plain": [
       "<IPython.core.display.HTML object>"
      ]
     },
     "metadata": {},
     "output_type": "display_data"
    },
    {
     "name": "stdout",
     "output_type": "stream",
     "text": [
      "\n",
      "--------------------------------------\n",
      "\n",
      "--------------------------------------\n",
      "Top few rows\n",
      "\n",
      "0    5715448\n",
      "1    5715448\n",
      "2    5715448\n",
      "3    5715448\n",
      "4    5715448\n",
      "Name: SK_ID_BUREAU, dtype: int64\n",
      "\n",
      "\n",
      "Bottom few rows\n",
      "\n",
      "27299920    5041336\n",
      "27299921    5041336\n",
      "27299922    5041336\n",
      "27299923    5041336\n",
      "27299924    5041336\n",
      "Name: SK_ID_BUREAU, dtype: int64\n",
      "\n",
      "--------------------------------------\n",
      "Missing Values: False\n",
      "\n",
      "\n",
      "\n",
      "******************************************************************************************************************\n",
      "******************************************************************************************************************\n"
     ]
    },
    {
     "data": {
      "text/html": [
       "     COLUMN==> MONTHS_BALANCE     "
      ],
      "text/plain": [
       "<IPython.core.display.HTML object>"
      ]
     },
     "metadata": {},
     "output_type": "display_data"
    },
    {
     "name": "stdout",
     "output_type": "stream",
     "text": [
      "******************************************************************************************************************\n",
      "******************************************************************************************************************\n",
      "--------------------------------------\n",
      "Data Type: number\n",
      "\n",
      "--------------------------------------\n",
      "Describe: \n",
      "\n",
      "count    2.729992e+07\n",
      "mean    -3.074169e+01\n",
      "std      2.386451e+01\n",
      "min     -9.600000e+01\n",
      "25%     -4.600000e+01\n",
      "50%     -2.500000e+01\n",
      "75%     -1.100000e+01\n",
      "max      0.000000e+00\n",
      "Name: MONTHS_BALANCE, dtype: float64\n",
      "\n",
      "\n"
     ]
    },
    {
     "data": {
      "image/png": "[encoded data removed]",
      "text/plain": [
       "<matplotlib.figure.Figure at 0x1cbab2cec50>"
      ]
     },
     "metadata": {},
     "output_type": "display_data"
    },
    {
     "name": "stdout",
     "output_type": "stream",
     "text": [
      "\n",
      "--------------------------------------\n",
      "excess kurtosis of normal distribution (should be 0): -0.3161429162991731\n",
      "skewness of normal distribution (should be 0): -0.7606896216262972\n"
     ]
    },
    {
     "data": {
      "text/html": [
       "MONTHS_BALANCE is <b>Left skewed</b> ==> -0.7606896216262972"
      ],
      "text/plain": [
       "<IPython.core.display.HTML object>"
      ]
     },
     "metadata": {},
     "output_type": "display_data"
    },
    {
     "name": "stdout",
     "output_type": "stream",
     "text": [
      "\n",
      "--------------------------------------\n",
      "\n",
      "--------------------------------------\n",
      "Top few rows\n",
      "\n",
      "0    0\n",
      "1   -1\n",
      "2   -2\n",
      "3   -3\n",
      "4   -4\n",
      "Name: MONTHS_BALANCE, dtype: int64\n",
      "\n",
      "\n",
      "Bottom few rows\n",
      "\n",
      "27299920   -47\n",
      "27299921   -48\n",
      "27299922   -49\n",
      "27299923   -50\n",
      "27299924   -51\n",
      "Name: MONTHS_BALANCE, dtype: int64\n",
      "\n",
      "--------------------------------------\n",
      "Missing Values: False\n",
      "\n",
      "\n",
      "\n",
      "******************************************************************************************************************\n",
      "******************************************************************************************************************\n"
     ]
    },
    {
     "data": {
      "text/html": [
       "     COLUMN==> STATUS     "
      ],
      "text/plain": [
       "<IPython.core.display.HTML object>"
      ]
     },
     "metadata": {},
     "output_type": "display_data"
    },
    {
     "name": "stdout",
     "output_type": "stream",
     "text": [
      "******************************************************************************************************************\n",
      "******************************************************************************************************************\n",
      "--------------------------------------\n",
      "Data Type: object\n",
      "\n",
      "--------------------------------------\n",
      "Describe: \n",
      "\n",
      "count     27299925\n",
      "unique           8\n",
      "top              C\n",
      "freq      13646993\n",
      "Name: STATUS, dtype: object\n",
      "\n",
      "\n",
      "Unique Values: \n",
      "\n",
      "['C' '0' 'X' '1' '2' '3' '5' '4']\n",
      "frequence of values \n",
      "\n",
      "C    13646993\n",
      "0     7499507\n",
      "X     5810482\n",
      "1      242347\n",
      "5       62406\n",
      "2       23419\n",
      "3        8924\n",
      "4        5847\n",
      "Name: STATUS, dtype: int64\n",
      "\n",
      "--------------------------------------\n",
      "Top few rows\n",
      "\n",
      "0    C\n",
      "1    C\n",
      "2    C\n",
      "3    C\n",
      "4    C\n",
      "Name: STATUS, dtype: object\n",
      "\n",
      "\n",
      "Bottom few rows\n",
      "\n",
      "27299920    X\n",
      "27299921    X\n",
      "27299922    X\n",
      "27299923    X\n",
      "27299924    X\n",
      "Name: STATUS, dtype: object\n",
      "\n",
      "--------------------------------------\n",
      "Missing Values: False\n",
      "\n",
      "\n",
      "\n"
     ]
    },
    {
     "data": {
      "image/png": "[encoded data removed]",
      "text/plain": [
       "<matplotlib.figure.Figure at 0x1cbaafaa0b8>"
      ]
     },
     "metadata": {},
     "output_type": "display_data"
    }
   ],
   "source": [
    "eda = EDA(bureau_balance_df)\n",
    "eda.explore()"
   ]
  }
 ],
 "metadata": {
  "kernelspec": {
   "display_name": "Python 3",
   "language": "python",
   "name": "python3"
  },
  "language_info": {
   "codemirror_mode": {
    "name": "ipython",
    "version": 3
   },
   "file_extension": ".py",
   "mimetype": "text/x-python",
   "name": "python",
   "nbconvert_exporter": "python",
   "pygments_lexer": "ipython3",
   "version": "3.6.0"
  }
 },
 "nbformat": 4,
 "nbformat_minor": 2
}
