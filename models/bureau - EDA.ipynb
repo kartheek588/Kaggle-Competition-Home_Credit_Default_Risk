{
 "cells": [
  {
   "cell_type": "code",
   "execution_count": 1,
   "metadata": {
    "collapsed": false
   },
   "outputs": [],
   "source": [
    "import os\n",
    "import pandas as pd\n",
    "import numpy as np\n",
    "import  utils.Data_preprocessing as dp\n",
    "from utils.EDA import EDA \n",
    "\n",
    "import matplotlib.pyplot as plt\n",
    "%matplotlib inline\n",
    "\n",
    "\n",
    "import gc\n",
    "gc.enable()\n",
    "PATH = '../input/'\n",
    "Processed = '../input/processed/'\n",
    "directory = os.path.dirname(Processed)\n",
    "if not os.path.exists(directory):\n",
    "    os.makedirs(directory)"
   ]
  },
  {
   "cell_type": "code",
   "execution_count": 2,
   "metadata": {
    "collapsed": true
   },
   "outputs": [],
   "source": [
    "bureau_df = pd.read_csv(PATH+\"bureau.csv\")"
   ]
  },
  {
   "cell_type": "code",
   "execution_count": 3,
   "metadata": {
    "collapsed": false
   },
   "outputs": [
    {
     "name": "stdout",
     "output_type": "stream",
     "text": [
      "******************************************************************************************************************\n",
      "******************************************************************************************************************\n"
     ]
    },
    {
     "data": {
      "text/html": [
       "     COLUMN==> SK_ID_CURR     "
      ],
      "text/plain": [
       "<IPython.core.display.HTML object>"
      ]
     },
     "metadata": {},
     "output_type": "display_data"
    },
    {
     "name": "stdout",
     "output_type": "stream",
     "text": [
      "******************************************************************************************************************\n",
      "******************************************************************************************************************\n",
      "--------------------------------------\n",
      "Data Type: number\n",
      "\n",
      "--------------------------------------\n",
      "Describe: \n",
      "\n",
      "count    1.716428e+06\n",
      "mean     2.782149e+05\n",
      "std      1.029386e+05\n",
      "min      1.000010e+05\n",
      "25%      1.888668e+05\n",
      "50%      2.780550e+05\n",
      "75%      3.674260e+05\n",
      "max      4.562550e+05\n",
      "Name: SK_ID_CURR, dtype: float64\n",
      "\n",
      "\n"
     ]
    },
    {
     "data": {
      "image/png": "[encoded data removed]",
      "text/plain": [
       "<matplotlib.figure.Figure at 0x29ed3280f60>"
      ]
     },
     "metadata": {},
     "output_type": "display_data"
    },
    {
     "name": "stdout",
     "output_type": "stream",
     "text": [
      "\n",
      "--------------------------------------\n",
      "excess kurtosis of normal distribution (should be 0): -1.202776512271528\n",
      "skewness of normal distribution (should be 0): 0.0010628876510595593\n"
     ]
    },
    {
     "data": {
      "text/html": [
       "SK_ID_CURR is <b>Right skewed</b> ==> 0.0010628876510595593"
      ],
      "text/plain": [
       "<IPython.core.display.HTML object>"
      ]
     },
     "metadata": {},
     "output_type": "display_data"
    },
    {
     "name": "stdout",
     "output_type": "stream",
     "text": [
      "\n",
      "--------------------------------------\n",
      "\n",
      "--------------------------------------\n",
      "Top few rows\n",
      "\n",
      "0    215354\n",
      "1    215354\n",
      "2    215354\n",
      "3    215354\n",
      "4    215354\n",
      "Name: SK_ID_CURR, dtype: int64\n",
      "\n",
      "\n",
      "Bottom few rows\n",
      "\n",
      "1716423    259355\n",
      "1716424    100044\n",
      "1716425    100044\n",
      "1716426    246829\n",
      "1716427    246829\n",
      "Name: SK_ID_CURR, dtype: int64\n",
      "\n",
      "--------------------------------------\n",
      "Missing Values: False\n",
      "\n",
      "\n",
      "\n",
      "******************************************************************************************************************\n",
      "******************************************************************************************************************\n"
     ]
    },
    {
     "data": {
      "text/html": [
       "     COLUMN==> SK_ID_BUREAU     "
      ],
      "text/plain": [
       "<IPython.core.display.HTML object>"
      ]
     },
     "metadata": {},
     "output_type": "display_data"
    },
    {
     "name": "stdout",
     "output_type": "stream",
     "text": [
      "******************************************************************************************************************\n",
      "******************************************************************************************************************\n",
      "--------------------------------------\n",
      "Data Type: number\n",
      "\n",
      "--------------------------------------\n",
      "Describe: \n",
      "\n",
      "count    1.716428e+06\n",
      "mean     5.924434e+06\n",
      "std      5.322657e+05\n",
      "min      5.000000e+06\n",
      "25%      5.463954e+06\n",
      "50%      5.926304e+06\n",
      "75%      6.385681e+06\n",
      "max      6.843457e+06\n",
      "Name: SK_ID_BUREAU, dtype: float64\n",
      "\n",
      "\n"
     ]
    },
    {
     "data": {
      "image/png": "[encoded data removed]",
      "text/plain": [
       "<matplotlib.figure.Figure at 0x29ed6dfdc88>"
      ]
     },
     "metadata": {},
     "output_type": "display_data"
    },
    {
     "name": "stdout",
     "output_type": "stream",
     "text": [
      "\n",
      "--------------------------------------\n",
      "excess kurtosis of normal distribution (should be 0): -1.19901583091894\n",
      "skewness of normal distribution (should be 0): -0.007497832116405187\n"
     ]
    },
    {
     "data": {
      "text/html": [
       "SK_ID_BUREAU is <b>Left skewed</b> ==> -0.007497832116405187"
      ],
      "text/plain": [
       "<IPython.core.display.HTML object>"
      ]
     },
     "metadata": {},
     "output_type": "display_data"
    },
    {
     "name": "stdout",
     "output_type": "stream",
     "text": [
      "\n",
      "--------------------------------------\n",
      "\n",
      "--------------------------------------\n",
      "Top few rows\n",
      "\n",
      "0    5714462\n",
      "1    5714463\n",
      "2    5714464\n",
      "3    5714465\n",
      "4    5714466\n",
      "Name: SK_ID_BUREAU, dtype: int64\n",
      "\n",
      "\n",
      "Bottom few rows\n",
      "\n",
      "1716423    5057750\n",
      "1716424    5057754\n",
      "1716425    5057762\n",
      "1716426    5057770\n",
      "1716427    5057778\n",
      "Name: SK_ID_BUREAU, dtype: int64\n",
      "\n",
      "--------------------------------------\n",
      "Missing Values: False\n",
      "\n",
      "\n",
      "\n",
      "******************************************************************************************************************\n",
      "******************************************************************************************************************\n"
     ]
    },
    {
     "data": {
      "text/html": [
       "     COLUMN==> CREDIT_ACTIVE     "
      ],
      "text/plain": [
       "<IPython.core.display.HTML object>"
      ]
     },
     "metadata": {},
     "output_type": "display_data"
    },
    {
     "name": "stdout",
     "output_type": "stream",
     "text": [
      "******************************************************************************************************************\n",
      "******************************************************************************************************************\n",
      "--------------------------------------\n",
      "Data Type: object\n",
      "\n",
      "--------------------------------------\n",
      "Describe: \n",
      "\n",
      "count     1716428\n",
      "unique          4\n",
      "top        Closed\n",
      "freq      1079273\n",
      "Name: CREDIT_ACTIVE, dtype: object\n",
      "\n",
      "\n",
      "Unique Values: \n",
      "\n",
      "['Closed' 'Active' 'Sold' 'Bad debt']\n",
      "frequence of values \n",
      "\n",
      "Closed      1079273\n",
      "Active       630607\n",
      "Sold           6527\n",
      "Bad debt         21\n",
      "Name: CREDIT_ACTIVE, dtype: int64\n",
      "\n",
      "--------------------------------------\n",
      "Top few rows\n",
      "\n",
      "0    Closed\n",
      "1    Active\n",
      "2    Active\n",
      "3    Active\n",
      "4    Active\n",
      "Name: CREDIT_ACTIVE, dtype: object\n",
      "\n",
      "\n",
      "Bottom few rows\n",
      "\n",
      "1716423    Active\n",
      "1716424    Closed\n",
      "1716425    Closed\n",
      "1716426    Closed\n",
      "1716427    Closed\n",
      "Name: CREDIT_ACTIVE, dtype: object\n",
      "\n",
      "--------------------------------------\n",
      "Missing Values: False\n",
      "\n",
      "\n",
      "\n",
      "******************************************************************************************************************\n",
      "******************************************************************************************************************\n"
     ]
    },
    {
     "data": {
      "text/html": [
       "     COLUMN==> CREDIT_CURRENCY     "
      ],
      "text/plain": [
       "<IPython.core.display.HTML object>"
      ]
     },
     "metadata": {},
     "output_type": "display_data"
    },
    {
     "name": "stdout",
     "output_type": "stream",
     "text": [
      "******************************************************************************************************************\n",
      "******************************************************************************************************************\n",
      "--------------------------------------\n",
      "Data Type: object\n",
      "\n",
      "--------------------------------------\n",
      "Describe: \n",
      "\n",
      "count        1716428\n",
      "unique             4\n",
      "top       currency 1\n",
      "freq         1715020\n",
      "Name: CREDIT_CURRENCY, dtype: object\n",
      "\n",
      "\n",
      "Unique Values: \n",
      "\n",
      "['currency 1' 'currency 2' 'currency 4' 'currency 3']\n",
      "frequence of values \n",
      "\n",
      "currency 1    1715020\n",
      "currency 2       1224\n",
      "currency 3        174\n",
      "currency 4         10\n",
      "Name: CREDIT_CURRENCY, dtype: int64\n",
      "\n",
      "--------------------------------------\n",
      "Top few rows\n",
      "\n",
      "0    currency 1\n",
      "1    currency 1\n",
      "2    currency 1\n",
      "3    currency 1\n",
      "4    currency 1\n",
      "Name: CREDIT_CURRENCY, dtype: object\n",
      "\n",
      "\n",
      "Bottom few rows\n",
      "\n",
      "1716423    currency 1\n",
      "1716424    currency 1\n",
      "1716425    currency 1\n",
      "1716426    currency 1\n",
      "1716427    currency 1\n",
      "Name: CREDIT_CURRENCY, dtype: object\n",
      "\n",
      "--------------------------------------\n",
      "Missing Values: False\n",
      "\n",
      "\n",
      "\n",
      "******************************************************************************************************************\n",
      "******************************************************************************************************************\n"
     ]
    },
    {
     "data": {
      "text/html": [
       "     COLUMN==> DAYS_CREDIT     "
      ],
      "text/plain": [
       "<IPython.core.display.HTML object>"
      ]
     },
     "metadata": {},
     "output_type": "display_data"
    },
    {
     "name": "stdout",
     "output_type": "stream",
     "text": [
      "******************************************************************************************************************\n",
      "******************************************************************************************************************\n",
      "--------------------------------------\n",
      "Data Type: number\n",
      "\n",
      "--------------------------------------\n",
      "Describe: \n",
      "\n",
      "count    1.716428e+06\n",
      "mean    -1.142108e+03\n",
      "std      7.951649e+02\n",
      "min     -2.922000e+03\n",
      "25%     -1.666000e+03\n",
      "50%     -9.870000e+02\n",
      "75%     -4.740000e+02\n",
      "max      0.000000e+00\n",
      "Name: DAYS_CREDIT, dtype: float64\n",
      "\n",
      "\n"
     ]
    },
    {
     "data": {
      "image/png": "[encoded data removed]",
      "text/plain": [
       "<matplotlib.figure.Figure at 0x29ed6e90470>"
      ]
     },
     "metadata": {},
     "output_type": "display_data"
    },
    {
     "name": "stdout",
     "output_type": "stream",
     "text": [
      "\n",
      "--------------------------------------\n",
      "excess kurtosis of normal distribution (should be 0): -0.7354452886281075\n",
      "skewness of normal distribution (should be 0): -0.5823490530504081\n"
     ]
    },
    {
     "data": {
      "text/html": [
       "DAYS_CREDIT is <b>Left skewed</b> ==> -0.5823490530504081"
      ],
      "text/plain": [
       "<IPython.core.display.HTML object>"
      ]
     },
     "metadata": {},
     "output_type": "display_data"
    },
    {
     "name": "stdout",
     "output_type": "stream",
     "text": [
      "\n",
      "--------------------------------------\n",
      "\n",
      "--------------------------------------\n",
      "Top few rows\n",
      "\n",
      "0   -497\n",
      "1   -208\n",
      "2   -203\n",
      "3   -203\n",
      "4   -629\n",
      "Name: DAYS_CREDIT, dtype: int64\n",
      "\n",
      "\n",
      "Bottom few rows\n",
      "\n",
      "1716423     -44\n",
      "1716424   -2648\n",
      "1716425   -1809\n",
      "1716426   -1878\n",
      "1716427    -463\n",
      "Name: DAYS_CREDIT, dtype: int64\n",
      "\n",
      "--------------------------------------\n",
      "Missing Values: False\n",
      "\n",
      "\n",
      "\n",
      "******************************************************************************************************************\n",
      "******************************************************************************************************************\n"
     ]
    },
    {
     "data": {
      "text/html": [
       "     COLUMN==> CREDIT_DAY_OVERDUE     "
      ],
      "text/plain": [
       "<IPython.core.display.HTML object>"
      ]
     },
     "metadata": {},
     "output_type": "display_data"
    },
    {
     "name": "stdout",
     "output_type": "stream",
     "text": [
      "******************************************************************************************************************\n",
      "******************************************************************************************************************\n",
      "--------------------------------------\n",
      "Data Type: number\n",
      "\n",
      "--------------------------------------\n",
      "Describe: \n",
      "\n",
      "count    1.716428e+06\n",
      "mean     8.181666e-01\n",
      "std      3.654443e+01\n",
      "min      0.000000e+00\n",
      "25%      0.000000e+00\n",
      "50%      0.000000e+00\n",
      "75%      0.000000e+00\n",
      "max      2.792000e+03\n",
      "Name: CREDIT_DAY_OVERDUE, dtype: float64\n",
      "\n",
      "\n"
     ]
    },
    {
     "data": {
      "image/png": "[encoded data removed]",
      "text/plain": [
       "<matplotlib.figure.Figure at 0x29e86b39898>"
      ]
     },
     "metadata": {},
     "output_type": "display_data"
    },
    {
     "name": "stdout",
     "output_type": "stream",
     "text": [
      "\n",
      "--------------------------------------\n",
      "excess kurtosis of normal distribution (should be 0): 3374.4841103948775\n",
      "skewness of normal distribution (should be 0): 55.93100542458554\n"
     ]
    },
    {
     "data": {
      "text/html": [
       "CREDIT_DAY_OVERDUE is <b>Right skewed</b> ==> 55.93100542458554"
      ],
      "text/plain": [
       "<IPython.core.display.HTML object>"
      ]
     },
     "metadata": {},
     "output_type": "display_data"
    },
    {
     "name": "stdout",
     "output_type": "stream",
     "text": [
      "\n",
      "--------------------------------------\n",
      "\n",
      "--------------------------------------\n",
      "Top few rows\n",
      "\n",
      "0    0\n",
      "1    0\n",
      "2    0\n",
      "3    0\n",
      "4    0\n",
      "Name: CREDIT_DAY_OVERDUE, dtype: int64\n",
      "\n",
      "\n",
      "Bottom few rows\n",
      "\n",
      "1716423    0\n",
      "1716424    0\n",
      "1716425    0\n",
      "1716426    0\n",
      "1716427    0\n",
      "Name: CREDIT_DAY_OVERDUE, dtype: int64\n",
      "\n",
      "--------------------------------------\n",
      "Missing Values: False\n",
      "\n",
      "\n",
      "\n",
      "******************************************************************************************************************\n",
      "******************************************************************************************************************\n"
     ]
    },
    {
     "data": {
      "text/html": [
       "     COLUMN==> DAYS_CREDIT_ENDDATE     "
      ],
      "text/plain": [
       "<IPython.core.display.HTML object>"
      ]
     },
     "metadata": {},
     "output_type": "display_data"
    },
    {
     "name": "stdout",
     "output_type": "stream",
     "text": [
      "******************************************************************************************************************\n",
      "******************************************************************************************************************\n",
      "--------------------------------------\n",
      "Data Type: number\n",
      "\n",
      "--------------------------------------\n",
      "Describe: \n",
      "\n",
      "count    1.610875e+06\n",
      "mean     5.105174e+02\n",
      "std      4.994220e+03\n",
      "min     -4.206000e+04\n",
      "25%     -1.138000e+03\n",
      "50%     -3.300000e+02\n",
      "75%      4.740000e+02\n",
      "max      3.119900e+04\n",
      "Name: DAYS_CREDIT_ENDDATE, dtype: float64\n",
      "\n",
      "\n"
     ]
    },
    {
     "data": {
      "image/png": "[encoded data removed]",
      "text/plain": [
       "<matplotlib.figure.Figure at 0x29ed67c6a20>"
      ]
     },
     "metadata": {},
     "output_type": "display_data"
    },
    {
     "name": "stdout",
     "output_type": "stream",
     "text": [
      "\n",
      "--------------------------------------\n",
      "excess kurtosis of normal distribution (should be 0): 28.180286611371905\n",
      "skewness of normal distribution (should be 0): 5.127133503325785\n"
     ]
    },
    {
     "data": {
      "text/html": [
       "DAYS_CREDIT_ENDDATE is <b>Right skewed</b> ==> 5.127133503325785"
      ],
      "text/plain": [
       "<IPython.core.display.HTML object>"
      ]
     },
     "metadata": {},
     "output_type": "display_data"
    },
    {
     "name": "stdout",
     "output_type": "stream",
     "text": [
      "\n",
      "--------------------------------------\n",
      "\n",
      "--------------------------------------\n",
      "Top few rows\n",
      "\n",
      "0    -153.0\n",
      "1    1075.0\n",
      "2     528.0\n",
      "3       NaN\n",
      "4    1197.0\n",
      "Name: DAYS_CREDIT_ENDDATE, dtype: float64\n",
      "\n",
      "\n",
      "Bottom few rows\n",
      "\n",
      "1716423     -30.0\n",
      "1716424   -2433.0\n",
      "1716425   -1628.0\n",
      "1716426   -1513.0\n",
      "1716427       NaN\n",
      "Name: DAYS_CREDIT_ENDDATE, dtype: float64\n",
      "\n",
      "--------------------------------------\n",
      "Missing Values: True\n",
      "Total missing: 105553\n",
      "Percentage:SK_ID_CURR                6.149573\n",
      "SK_ID_BUREAU              6.149573\n",
      "CREDIT_ACTIVE             6.149573\n",
      "CREDIT_CURRENCY           6.149573\n",
      "DAYS_CREDIT               6.149573\n",
      "CREDIT_DAY_OVERDUE        6.149573\n",
      "DAYS_CREDIT_ENDDATE       6.149573\n",
      "DAYS_ENDDATE_FACT         6.149573\n",
      "AMT_CREDIT_MAX_OVERDUE    6.149573\n",
      "CNT_CREDIT_PROLONG        6.149573\n",
      "AMT_CREDIT_SUM            6.149573\n",
      "AMT_CREDIT_SUM_DEBT       6.149573\n",
      "AMT_CREDIT_SUM_LIMIT      6.149573\n",
      "AMT_CREDIT_SUM_OVERDUE    6.149573\n",
      "CREDIT_TYPE               6.149573\n",
      "DAYS_CREDIT_UPDATE        6.149573\n",
      "AMT_ANNUITY               6.149573\n",
      "dtype: float64\n",
      "\n",
      "\n",
      "\n",
      "******************************************************************************************************************\n",
      "******************************************************************************************************************\n"
     ]
    },
    {
     "data": {
      "text/html": [
       "     COLUMN==> DAYS_ENDDATE_FACT     "
      ],
      "text/plain": [
       "<IPython.core.display.HTML object>"
      ]
     },
     "metadata": {},
     "output_type": "display_data"
    },
    {
     "name": "stdout",
     "output_type": "stream",
     "text": [
      "******************************************************************************************************************\n",
      "******************************************************************************************************************\n",
      "--------------------------------------\n",
      "Data Type: number\n",
      "\n",
      "--------------------------------------\n",
      "Describe: \n",
      "\n",
      "count    1.082775e+06\n",
      "mean    -1.017437e+03\n",
      "std      7.140106e+02\n",
      "min     -4.202300e+04\n",
      "25%     -1.489000e+03\n",
      "50%     -8.970000e+02\n",
      "75%     -4.250000e+02\n",
      "max      0.000000e+00\n",
      "Name: DAYS_ENDDATE_FACT, dtype: float64\n",
      "\n",
      "\n"
     ]
    },
    {
     "data": {
      "image/png": "[encoded data removed]",
      "text/plain": [
       "<matplotlib.figure.Figure at 0x29e831196d8>"
      ]
     },
     "metadata": {},
     "output_type": "display_data"
    },
    {
     "name": "stdout",
     "output_type": "stream",
     "text": [
      "\n",
      "--------------------------------------\n",
      "excess kurtosis of normal distribution (should be 0): 9.409194346037864\n",
      "skewness of normal distribution (should be 0): -0.7747538315821675\n"
     ]
    },
    {
     "data": {
      "text/html": [
       "DAYS_ENDDATE_FACT is <b>Left skewed</b> ==> -0.7747538315821675"
      ],
      "text/plain": [
       "<IPython.core.display.HTML object>"
      ]
     },
     "metadata": {},
     "output_type": "display_data"
    },
    {
     "name": "stdout",
     "output_type": "stream",
     "text": [
      "\n",
      "--------------------------------------\n",
      "\n",
      "--------------------------------------\n",
      "Top few rows\n",
      "\n",
      "0   -153.0\n",
      "1      NaN\n",
      "2      NaN\n",
      "3      NaN\n",
      "4      NaN\n",
      "Name: DAYS_ENDDATE_FACT, dtype: float64\n",
      "\n",
      "\n",
      "Bottom few rows\n",
      "\n",
      "1716423       NaN\n",
      "1716424   -2493.0\n",
      "1716425    -970.0\n",
      "1716426   -1513.0\n",
      "1716427    -387.0\n",
      "Name: DAYS_ENDDATE_FACT, dtype: float64\n",
      "\n",
      "--------------------------------------\n",
      "Missing Values: True\n",
      "Total missing: 633653\n",
      "Percentage:SK_ID_CURR                36.916958\n",
      "SK_ID_BUREAU              36.916958\n",
      "CREDIT_ACTIVE             36.916958\n",
      "CREDIT_CURRENCY           36.916958\n",
      "DAYS_CREDIT               36.916958\n",
      "CREDIT_DAY_OVERDUE        36.916958\n",
      "DAYS_CREDIT_ENDDATE       36.916958\n",
      "DAYS_ENDDATE_FACT         36.916958\n",
      "AMT_CREDIT_MAX_OVERDUE    36.916958\n",
      "CNT_CREDIT_PROLONG        36.916958\n",
      "AMT_CREDIT_SUM            36.916958\n",
      "AMT_CREDIT_SUM_DEBT       36.916958\n",
      "AMT_CREDIT_SUM_LIMIT      36.916958\n",
      "AMT_CREDIT_SUM_OVERDUE    36.916958\n",
      "CREDIT_TYPE               36.916958\n",
      "DAYS_CREDIT_UPDATE        36.916958\n",
      "AMT_ANNUITY               36.916958\n",
      "dtype: float64\n",
      "\n",
      "\n",
      "\n",
      "******************************************************************************************************************\n",
      "******************************************************************************************************************\n"
     ]
    },
    {
     "data": {
      "text/html": [
       "     COLUMN==> AMT_CREDIT_MAX_OVERDUE     "
      ],
      "text/plain": [
       "<IPython.core.display.HTML object>"
      ]
     },
     "metadata": {},
     "output_type": "display_data"
    },
    {
     "name": "stdout",
     "output_type": "stream",
     "text": [
      "******************************************************************************************************************\n",
      "******************************************************************************************************************\n",
      "--------------------------------------\n",
      "Data Type: number\n",
      "\n",
      "--------------------------------------\n",
      "Describe: \n",
      "\n",
      "count    5.919400e+05\n",
      "mean     3.825418e+03\n",
      "std      2.060316e+05\n",
      "min      0.000000e+00\n",
      "25%      0.000000e+00\n",
      "50%      0.000000e+00\n",
      "75%      0.000000e+00\n",
      "max      1.159872e+08\n",
      "Name: AMT_CREDIT_MAX_OVERDUE, dtype: float64\n",
      "\n",
      "\n"
     ]
    },
    {
     "data": {
      "image/png": "[encoded data removed]",
      "text/plain": [
       "<matplotlib.figure.Figure at 0x29e8aec0a20>"
      ]
     },
     "metadata": {},
     "output_type": "display_data"
    },
    {
     "name": "stdout",
     "output_type": "stream",
     "text": [
      "\n",
      "--------------------------------------\n",
      "excess kurtosis of normal distribution (should be 0): 245696.9248759461\n",
      "skewness of normal distribution (should be 0): 470.91381947874606\n"
     ]
    },
    {
     "data": {
      "text/html": [
       "AMT_CREDIT_MAX_OVERDUE is <b>Right skewed</b> ==> 470.91381947874606"
      ],
      "text/plain": [
       "<IPython.core.display.HTML object>"
      ]
     },
     "metadata": {},
     "output_type": "display_data"
    },
    {
     "name": "stdout",
     "output_type": "stream",
     "text": [
      "\n",
      "--------------------------------------\n",
      "\n",
      "--------------------------------------\n",
      "Top few rows\n",
      "\n",
      "0        NaN\n",
      "1        NaN\n",
      "2        NaN\n",
      "3        NaN\n",
      "4    77674.5\n",
      "Name: AMT_CREDIT_MAX_OVERDUE, dtype: float64\n",
      "\n",
      "\n",
      "Bottom few rows\n",
      "\n",
      "1716423       0.0\n",
      "1716424    5476.5\n",
      "1716425       NaN\n",
      "1716426       NaN\n",
      "1716427       NaN\n",
      "Name: AMT_CREDIT_MAX_OVERDUE, dtype: float64\n",
      "\n",
      "--------------------------------------\n",
      "Missing Values: True\n",
      "Total missing: 1124488\n",
      "Percentage:SK_ID_CURR                65.513264\n",
      "SK_ID_BUREAU              65.513264\n",
      "CREDIT_ACTIVE             65.513264\n",
      "CREDIT_CURRENCY           65.513264\n",
      "DAYS_CREDIT               65.513264\n",
      "CREDIT_DAY_OVERDUE        65.513264\n",
      "DAYS_CREDIT_ENDDATE       65.513264\n",
      "DAYS_ENDDATE_FACT         65.513264\n",
      "AMT_CREDIT_MAX_OVERDUE    65.513264\n",
      "CNT_CREDIT_PROLONG        65.513264\n",
      "AMT_CREDIT_SUM            65.513264\n",
      "AMT_CREDIT_SUM_DEBT       65.513264\n",
      "AMT_CREDIT_SUM_LIMIT      65.513264\n",
      "AMT_CREDIT_SUM_OVERDUE    65.513264\n",
      "CREDIT_TYPE               65.513264\n",
      "DAYS_CREDIT_UPDATE        65.513264\n",
      "AMT_ANNUITY               65.513264\n",
      "dtype: float64\n",
      "\n",
      "\n",
      "\n",
      "******************************************************************************************************************\n",
      "******************************************************************************************************************\n"
     ]
    },
    {
     "data": {
      "text/html": [
       "     COLUMN==> CNT_CREDIT_PROLONG     "
      ],
      "text/plain": [
       "<IPython.core.display.HTML object>"
      ]
     },
     "metadata": {},
     "output_type": "display_data"
    },
    {
     "name": "stdout",
     "output_type": "stream",
     "text": [
      "******************************************************************************************************************\n",
      "******************************************************************************************************************\n",
      "--------------------------------------\n",
      "Data Type: number\n",
      "\n",
      "--------------------------------------\n",
      "Describe: \n",
      "\n",
      "count    1.716428e+06\n",
      "mean     6.410406e-03\n",
      "std      9.622391e-02\n",
      "min      0.000000e+00\n",
      "25%      0.000000e+00\n",
      "50%      0.000000e+00\n",
      "75%      0.000000e+00\n",
      "max      9.000000e+00\n",
      "Name: CNT_CREDIT_PROLONG, dtype: float64\n",
      "\n",
      "\n"
     ]
    },
    {
     "data": {
      "image/png": "[encoded data removed]",
      "text/plain": [
       "<matplotlib.figure.Figure at 0x29e8a2fe358>"
      ]
     },
     "metadata": {},
     "output_type": "display_data"
    },
    {
     "name": "stdout",
     "output_type": "stream",
     "text": [
      "\n",
      "--------------------------------------\n",
      "excess kurtosis of normal distribution (should be 0): 615.4387748905523\n",
      "skewness of normal distribution (should be 0): 20.319276590868995\n"
     ]
    },
    {
     "data": {
      "text/html": [
       "CNT_CREDIT_PROLONG is <b>Right skewed</b> ==> 20.319276590868995"
      ],
      "text/plain": [
       "<IPython.core.display.HTML object>"
      ]
     },
     "metadata": {},
     "output_type": "display_data"
    },
    {
     "name": "stdout",
     "output_type": "stream",
     "text": [
      "\n",
      "--------------------------------------\n",
      "\n",
      "--------------------------------------\n",
      "Top few rows\n",
      "\n",
      "0    0\n",
      "1    0\n",
      "2    0\n",
      "3    0\n",
      "4    0\n",
      "Name: CNT_CREDIT_PROLONG, dtype: int64\n",
      "\n",
      "\n",
      "Bottom few rows\n",
      "\n",
      "1716423    0\n",
      "1716424    0\n",
      "1716425    0\n",
      "1716426    0\n",
      "1716427    0\n",
      "Name: CNT_CREDIT_PROLONG, dtype: int64\n",
      "\n",
      "--------------------------------------\n",
      "Missing Values: False\n",
      "\n",
      "\n",
      "\n",
      "******************************************************************************************************************\n",
      "******************************************************************************************************************\n"
     ]
    },
    {
     "data": {
      "text/html": [
       "     COLUMN==> AMT_CREDIT_SUM     "
      ],
      "text/plain": [
       "<IPython.core.display.HTML object>"
      ]
     },
     "metadata": {},
     "output_type": "display_data"
    },
    {
     "name": "stdout",
     "output_type": "stream",
     "text": [
      "******************************************************************************************************************\n",
      "******************************************************************************************************************\n",
      "--------------------------------------\n",
      "Data Type: number\n",
      "\n",
      "--------------------------------------\n",
      "Describe: \n",
      "\n",
      "count    1.716415e+06\n",
      "mean     3.549946e+05\n",
      "std      1.149811e+06\n",
      "min      0.000000e+00\n",
      "25%      5.130000e+04\n",
      "50%      1.255185e+05\n",
      "75%      3.150000e+05\n",
      "max      5.850000e+08\n",
      "Name: AMT_CREDIT_SUM, dtype: float64\n",
      "\n",
      "\n"
     ]
    },
    {
     "data": {
      "image/png": "[encoded data removed]",
      "text/plain": [
       "<matplotlib.figure.Figure at 0x29ed6dcce10>"
      ]
     },
     "metadata": {},
     "output_type": "display_data"
    },
    {
     "name": "stdout",
     "output_type": "stream",
     "text": [
      "\n",
      "--------------------------------------\n",
      "excess kurtosis of normal distribution (should be 0): 49315.96715856325\n",
      "skewness of normal distribution (should be 0): 124.586096929486\n"
     ]
    },
    {
     "data": {
      "text/html": [
       "AMT_CREDIT_SUM is <b>Right skewed</b> ==> 124.586096929486"
      ],
      "text/plain": [
       "<IPython.core.display.HTML object>"
      ]
     },
     "metadata": {},
     "output_type": "display_data"
    },
    {
     "name": "stdout",
     "output_type": "stream",
     "text": [
      "\n",
      "--------------------------------------\n",
      "\n",
      "--------------------------------------\n",
      "Top few rows\n",
      "\n",
      "0      91323.0\n",
      "1     225000.0\n",
      "2     464323.5\n",
      "3      90000.0\n",
      "4    2700000.0\n",
      "Name: AMT_CREDIT_SUM, dtype: float64\n",
      "\n",
      "\n",
      "Bottom few rows\n",
      "\n",
      "1716423    11250.00\n",
      "1716424    38130.84\n",
      "1716425    15570.00\n",
      "1716426    36000.00\n",
      "1716427    22500.00\n",
      "Name: AMT_CREDIT_SUM, dtype: float64\n",
      "\n",
      "--------------------------------------\n",
      "Missing Values: True\n",
      "Total missing: 13\n",
      "Percentage:SK_ID_CURR                0.000757\n",
      "SK_ID_BUREAU              0.000757\n",
      "CREDIT_ACTIVE             0.000757\n",
      "CREDIT_CURRENCY           0.000757\n",
      "DAYS_CREDIT               0.000757\n",
      "CREDIT_DAY_OVERDUE        0.000757\n",
      "DAYS_CREDIT_ENDDATE       0.000757\n",
      "DAYS_ENDDATE_FACT         0.000757\n",
      "AMT_CREDIT_MAX_OVERDUE    0.000757\n",
      "CNT_CREDIT_PROLONG        0.000757\n",
      "AMT_CREDIT_SUM            0.000757\n",
      "AMT_CREDIT_SUM_DEBT       0.000757\n",
      "AMT_CREDIT_SUM_LIMIT      0.000757\n",
      "AMT_CREDIT_SUM_OVERDUE    0.000757\n",
      "CREDIT_TYPE               0.000757\n",
      "DAYS_CREDIT_UPDATE        0.000757\n",
      "AMT_ANNUITY               0.000757\n",
      "dtype: float64\n",
      "\n",
      "\n",
      "\n",
      "******************************************************************************************************************\n",
      "******************************************************************************************************************\n"
     ]
    },
    {
     "data": {
      "text/html": [
       "     COLUMN==> AMT_CREDIT_SUM_DEBT     "
      ],
      "text/plain": [
       "<IPython.core.display.HTML object>"
      ]
     },
     "metadata": {},
     "output_type": "display_data"
    },
    {
     "name": "stdout",
     "output_type": "stream",
     "text": [
      "******************************************************************************************************************\n",
      "******************************************************************************************************************\n",
      "--------------------------------------\n",
      "Data Type: number\n",
      "\n",
      "--------------------------------------\n",
      "Describe: \n",
      "\n",
      "count    1.458759e+06\n",
      "mean     1.370851e+05\n",
      "std      6.774011e+05\n",
      "min     -4.705600e+06\n",
      "25%      0.000000e+00\n",
      "50%      0.000000e+00\n",
      "75%      4.015350e+04\n",
      "max      1.701000e+08\n",
      "Name: AMT_CREDIT_SUM_DEBT, dtype: float64\n",
      "\n",
      "\n"
     ]
    },
    {
     "data": {
      "image/png": "[encoded data removed]",
      "text/plain": [
       "<matplotlib.figure.Figure at 0x29e89f04cc0>"
      ]
     },
     "metadata": {},
     "output_type": "display_data"
    },
    {
     "name": "stdout",
     "output_type": "stream",
     "text": [
      "\n",
      "--------------------------------------\n",
      "excess kurtosis of normal distribution (should be 0): 5673.434266493534\n",
      "skewness of normal distribution (should be 0): 36.4145383444218\n"
     ]
    },
    {
     "data": {
      "text/html": [
       "AMT_CREDIT_SUM_DEBT is <b>Right skewed</b> ==> 36.4145383444218"
      ],
      "text/plain": [
       "<IPython.core.display.HTML object>"
      ]
     },
     "metadata": {},
     "output_type": "display_data"
    },
    {
     "name": "stdout",
     "output_type": "stream",
     "text": [
      "\n",
      "--------------------------------------\n",
      "\n",
      "--------------------------------------\n",
      "Top few rows\n",
      "\n",
      "0         0.0\n",
      "1    171342.0\n",
      "2         NaN\n",
      "3         NaN\n",
      "4         NaN\n",
      "Name: AMT_CREDIT_SUM_DEBT, dtype: float64\n",
      "\n",
      "\n",
      "Bottom few rows\n",
      "\n",
      "1716423    11250.0\n",
      "1716424        0.0\n",
      "1716425        NaN\n",
      "1716426        0.0\n",
      "1716427        0.0\n",
      "Name: AMT_CREDIT_SUM_DEBT, dtype: float64\n",
      "\n",
      "--------------------------------------\n",
      "Missing Values: True\n",
      "Total missing: 257669\n",
      "Percentage:SK_ID_CURR                15.011932\n",
      "SK_ID_BUREAU              15.011932\n",
      "CREDIT_ACTIVE             15.011932\n",
      "CREDIT_CURRENCY           15.011932\n",
      "DAYS_CREDIT               15.011932\n",
      "CREDIT_DAY_OVERDUE        15.011932\n",
      "DAYS_CREDIT_ENDDATE       15.011932\n",
      "DAYS_ENDDATE_FACT         15.011932\n",
      "AMT_CREDIT_MAX_OVERDUE    15.011932\n",
      "CNT_CREDIT_PROLONG        15.011932\n",
      "AMT_CREDIT_SUM            15.011932\n",
      "AMT_CREDIT_SUM_DEBT       15.011932\n",
      "AMT_CREDIT_SUM_LIMIT      15.011932\n",
      "AMT_CREDIT_SUM_OVERDUE    15.011932\n",
      "CREDIT_TYPE               15.011932\n",
      "DAYS_CREDIT_UPDATE        15.011932\n",
      "AMT_ANNUITY               15.011932\n",
      "dtype: float64\n",
      "\n",
      "\n",
      "\n",
      "******************************************************************************************************************\n",
      "******************************************************************************************************************\n"
     ]
    },
    {
     "data": {
      "text/html": [
       "     COLUMN==> AMT_CREDIT_SUM_LIMIT     "
      ],
      "text/plain": [
       "<IPython.core.display.HTML object>"
      ]
     },
     "metadata": {},
     "output_type": "display_data"
    },
    {
     "name": "stdout",
     "output_type": "stream",
     "text": [
      "******************************************************************************************************************\n",
      "******************************************************************************************************************\n",
      "--------------------------------------\n",
      "Data Type: number\n",
      "\n",
      "--------------------------------------\n",
      "Describe: \n",
      "\n",
      "count    1.124648e+06\n",
      "mean     6.229515e+03\n",
      "std      4.503203e+04\n",
      "min     -5.864061e+05\n",
      "25%      0.000000e+00\n",
      "50%      0.000000e+00\n",
      "75%      0.000000e+00\n",
      "max      4.705600e+06\n",
      "Name: AMT_CREDIT_SUM_LIMIT, dtype: float64\n",
      "\n",
      "\n"
     ]
    },
    {
     "data": {
      "image/png": "[encoded data removed]",
      "text/plain": [
       "<matplotlib.figure.Figure at 0x29e878ea8d0>"
      ]
     },
     "metadata": {},
     "output_type": "display_data"
    },
    {
     "name": "stdout",
     "output_type": "stream",
     "text": [
      "\n",
      "--------------------------------------\n",
      "excess kurtosis of normal distribution (should be 0): 796.0960929801084\n",
      "skewness of normal distribution (should be 0): 18.026913589546357\n"
     ]
    },
    {
     "data": {
      "text/html": [
       "AMT_CREDIT_SUM_LIMIT is <b>Right skewed</b> ==> 18.026913589546357"
      ],
      "text/plain": [
       "<IPython.core.display.HTML object>"
      ]
     },
     "metadata": {},
     "output_type": "display_data"
    },
    {
     "name": "stdout",
     "output_type": "stream",
     "text": [
      "\n",
      "--------------------------------------\n",
      "\n",
      "--------------------------------------\n",
      "Top few rows\n",
      "\n",
      "0   NaN\n",
      "1   NaN\n",
      "2   NaN\n",
      "3   NaN\n",
      "4   NaN\n",
      "Name: AMT_CREDIT_SUM_LIMIT, dtype: float64\n",
      "\n",
      "\n",
      "Bottom few rows\n",
      "\n",
      "1716423    0.0\n",
      "1716424    0.0\n",
      "1716425    NaN\n",
      "1716426    0.0\n",
      "1716427    NaN\n",
      "Name: AMT_CREDIT_SUM_LIMIT, dtype: float64\n",
      "\n",
      "--------------------------------------\n",
      "Missing Values: True\n",
      "Total missing: 591780\n",
      "Percentage:SK_ID_CURR                34.477415\n",
      "SK_ID_BUREAU              34.477415\n",
      "CREDIT_ACTIVE             34.477415\n",
      "CREDIT_CURRENCY           34.477415\n",
      "DAYS_CREDIT               34.477415\n",
      "CREDIT_DAY_OVERDUE        34.477415\n",
      "DAYS_CREDIT_ENDDATE       34.477415\n",
      "DAYS_ENDDATE_FACT         34.477415\n",
      "AMT_CREDIT_MAX_OVERDUE    34.477415\n",
      "CNT_CREDIT_PROLONG        34.477415\n",
      "AMT_CREDIT_SUM            34.477415\n",
      "AMT_CREDIT_SUM_DEBT       34.477415\n",
      "AMT_CREDIT_SUM_LIMIT      34.477415\n",
      "AMT_CREDIT_SUM_OVERDUE    34.477415\n",
      "CREDIT_TYPE               34.477415\n",
      "DAYS_CREDIT_UPDATE        34.477415\n",
      "AMT_ANNUITY               34.477415\n",
      "dtype: float64\n",
      "\n",
      "\n",
      "\n",
      "******************************************************************************************************************\n",
      "******************************************************************************************************************\n"
     ]
    },
    {
     "data": {
      "text/html": [
       "     COLUMN==> AMT_CREDIT_SUM_OVERDUE     "
      ],
      "text/plain": [
       "<IPython.core.display.HTML object>"
      ]
     },
     "metadata": {},
     "output_type": "display_data"
    },
    {
     "name": "stdout",
     "output_type": "stream",
     "text": [
      "******************************************************************************************************************\n",
      "******************************************************************************************************************\n",
      "--------------------------------------\n",
      "Data Type: number\n",
      "\n",
      "--------------------------------------\n",
      "Describe: \n",
      "\n",
      "count    1.716428e+06\n",
      "mean     3.791276e+01\n",
      "std      5.937650e+03\n",
      "min      0.000000e+00\n",
      "25%      0.000000e+00\n",
      "50%      0.000000e+00\n",
      "75%      0.000000e+00\n",
      "max      3.756681e+06\n",
      "Name: AMT_CREDIT_SUM_OVERDUE, dtype: float64\n",
      "\n",
      "\n"
     ]
    },
    {
     "data": {
      "image/png": "[encoded data removed]",
      "text/plain": [
       "<matplotlib.figure.Figure at 0x29e86f11668>"
      ]
     },
     "metadata": {},
     "output_type": "display_data"
    },
    {
     "name": "stdout",
     "output_type": "stream",
     "text": [
      "\n",
      "--------------------------------------\n",
      "excess kurtosis of normal distribution (should be 0): 211836.84961940921\n",
      "skewness of normal distribution (should be 0): 403.2418583981657\n"
     ]
    },
    {
     "data": {
      "text/html": [
       "AMT_CREDIT_SUM_OVERDUE is <b>Right skewed</b> ==> 403.2418583981657"
      ],
      "text/plain": [
       "<IPython.core.display.HTML object>"
      ]
     },
     "metadata": {},
     "output_type": "display_data"
    },
    {
     "name": "stdout",
     "output_type": "stream",
     "text": [
      "\n",
      "--------------------------------------\n",
      "\n",
      "--------------------------------------\n",
      "Top few rows\n",
      "\n",
      "0    0.0\n",
      "1    0.0\n",
      "2    0.0\n",
      "3    0.0\n",
      "4    0.0\n",
      "Name: AMT_CREDIT_SUM_OVERDUE, dtype: float64\n",
      "\n",
      "\n",
      "Bottom few rows\n",
      "\n",
      "1716423    0.0\n",
      "1716424    0.0\n",
      "1716425    0.0\n",
      "1716426    0.0\n",
      "1716427    0.0\n",
      "Name: AMT_CREDIT_SUM_OVERDUE, dtype: float64\n",
      "\n",
      "--------------------------------------\n",
      "Missing Values: False\n",
      "\n",
      "\n",
      "\n",
      "******************************************************************************************************************\n",
      "******************************************************************************************************************\n"
     ]
    },
    {
     "data": {
      "text/html": [
       "     COLUMN==> CREDIT_TYPE     "
      ],
      "text/plain": [
       "<IPython.core.display.HTML object>"
      ]
     },
     "metadata": {},
     "output_type": "display_data"
    },
    {
     "name": "stdout",
     "output_type": "stream",
     "text": [
      "******************************************************************************************************************\n",
      "******************************************************************************************************************\n",
      "--------------------------------------\n",
      "Data Type: object\n",
      "\n",
      "--------------------------------------\n",
      "Describe: \n",
      "\n",
      "count             1716428\n",
      "unique                 15\n",
      "top       Consumer credit\n",
      "freq              1251615\n",
      "Name: CREDIT_TYPE, dtype: object\n",
      "\n",
      "\n",
      "Unique Values: \n",
      "\n",
      "['Consumer credit' 'Credit card' 'Mortgage' 'Car loan' 'Microloan'\n",
      " 'Loan for working capital replenishment' 'Loan for business development'\n",
      " 'Real estate loan' 'Unknown type of loan' 'Another type of loan'\n",
      " 'Cash loan (non-earmarked)' 'Loan for the purchase of equipment'\n",
      " 'Mobile operator loan' 'Interbank credit'\n",
      " 'Loan for purchase of shares (margin lending)']\n",
      "frequence of values \n",
      "\n",
      "Consumer credit                                 1251615\n",
      "Credit card                                      402195\n",
      "Car loan                                          27690\n",
      "Mortgage                                          18391\n",
      "Microloan                                         12413\n",
      "Loan for business development                      1975\n",
      "Another type of loan                               1017\n",
      "Unknown type of loan                                555\n",
      "Loan for working capital replenishment              469\n",
      "Cash loan (non-earmarked)                            56\n",
      "Real estate loan                                     27\n",
      "Loan for the purchase of equipment                   19\n",
      "Loan for purchase of shares (margin lending)          4\n",
      "Mobile operator loan                                  1\n",
      "Interbank credit                                      1\n",
      "Name: CREDIT_TYPE, dtype: int64\n",
      "\n",
      "--------------------------------------\n",
      "Top few rows\n",
      "\n",
      "0    Consumer credit\n",
      "1        Credit card\n",
      "2    Consumer credit\n",
      "3        Credit card\n",
      "4    Consumer credit\n",
      "Name: CREDIT_TYPE, dtype: object\n",
      "\n",
      "\n",
      "Bottom few rows\n",
      "\n",
      "1716423          Microloan\n",
      "1716424    Consumer credit\n",
      "1716425    Consumer credit\n",
      "1716426    Consumer credit\n",
      "1716427          Microloan\n",
      "Name: CREDIT_TYPE, dtype: object\n",
      "\n",
      "--------------------------------------\n",
      "Missing Values: False\n",
      "\n",
      "\n",
      "\n",
      "******************************************************************************************************************\n",
      "******************************************************************************************************************\n"
     ]
    },
    {
     "data": {
      "text/html": [
       "     COLUMN==> DAYS_CREDIT_UPDATE     "
      ],
      "text/plain": [
       "<IPython.core.display.HTML object>"
      ]
     },
     "metadata": {},
     "output_type": "display_data"
    },
    {
     "name": "stdout",
     "output_type": "stream",
     "text": [
      "******************************************************************************************************************\n",
      "******************************************************************************************************************\n",
      "--------------------------------------\n",
      "Data Type: number\n",
      "\n",
      "--------------------------------------\n",
      "Describe: \n",
      "\n",
      "count    1.716428e+06\n",
      "mean    -5.937483e+02\n",
      "std      7.207473e+02\n",
      "min     -4.194700e+04\n",
      "25%     -9.080000e+02\n",
      "50%     -3.950000e+02\n",
      "75%     -3.300000e+01\n",
      "max      3.720000e+02\n",
      "Name: DAYS_CREDIT_UPDATE, dtype: float64\n",
      "\n",
      "\n"
     ]
    },
    {
     "data": {
      "image/png": "[encoded data removed]",
      "text/plain": [
       "<matplotlib.figure.Figure at 0x29fc26c74e0>"
      ]
     },
     "metadata": {},
     "output_type": "display_data"
    },
    {
     "name": "stdout",
     "output_type": "stream",
     "text": [
      "\n",
      "--------------------------------------\n",
      "excess kurtosis of normal distribution (should be 0): 596.373662181557\n",
      "skewness of normal distribution (should be 0): -11.33499491124332\n"
     ]
    },
    {
     "data": {
      "text/html": [
       "DAYS_CREDIT_UPDATE is <b>Left skewed</b> ==> -11.33499491124332"
      ],
      "text/plain": [
       "<IPython.core.display.HTML object>"
      ]
     },
     "metadata": {},
     "output_type": "display_data"
    },
    {
     "name": "stdout",
     "output_type": "stream",
     "text": [
      "\n",
      "--------------------------------------\n",
      "\n",
      "--------------------------------------\n",
      "Top few rows\n",
      "\n",
      "0   -131\n",
      "1    -20\n",
      "2    -16\n",
      "3    -16\n",
      "4    -21\n",
      "Name: DAYS_CREDIT_UPDATE, dtype: int64\n",
      "\n",
      "\n",
      "Bottom few rows\n",
      "\n",
      "1716423     -19\n",
      "1716424   -2493\n",
      "1716425    -967\n",
      "1716426   -1508\n",
      "1716427    -387\n",
      "Name: DAYS_CREDIT_UPDATE, dtype: int64\n",
      "\n",
      "--------------------------------------\n",
      "Missing Values: False\n",
      "\n",
      "\n",
      "\n",
      "******************************************************************************************************************\n",
      "******************************************************************************************************************\n"
     ]
    },
    {
     "data": {
      "text/html": [
       "     COLUMN==> AMT_ANNUITY     "
      ],
      "text/plain": [
       "<IPython.core.display.HTML object>"
      ]
     },
     "metadata": {},
     "output_type": "display_data"
    },
    {
     "name": "stdout",
     "output_type": "stream",
     "text": [
      "******************************************************************************************************************\n",
      "******************************************************************************************************************\n",
      "--------------------------------------\n",
      "Data Type: number\n",
      "\n",
      "--------------------------------------\n",
      "Describe: \n",
      "\n",
      "count    4.896370e+05\n",
      "mean     1.571276e+04\n",
      "std      3.258269e+05\n",
      "min      0.000000e+00\n",
      "25%      0.000000e+00\n",
      "50%      0.000000e+00\n",
      "75%      1.350000e+04\n",
      "max      1.184534e+08\n",
      "Name: AMT_ANNUITY, dtype: float64\n",
      "\n",
      "\n"
     ]
    },
    {
     "data": {
      "image/png": "[encoded data removed]",
      "text/plain": [
       "<matplotlib.figure.Figure at 0x29ed6e9aef0>"
      ]
     },
     "metadata": {},
     "output_type": "display_data"
    },
    {
     "name": "stdout",
     "output_type": "stream",
     "text": [
      "\n",
      "--------------------------------------\n",
      "excess kurtosis of normal distribution (should be 0): 58560.69397729544\n",
      "skewness of normal distribution (should be 0): 212.54312484092748\n"
     ]
    },
    {
     "data": {
      "text/html": [
       "AMT_ANNUITY is <b>Right skewed</b> ==> 212.54312484092748"
      ],
      "text/plain": [
       "<IPython.core.display.HTML object>"
      ]
     },
     "metadata": {},
     "output_type": "display_data"
    },
    {
     "name": "stdout",
     "output_type": "stream",
     "text": [
      "\n",
      "--------------------------------------\n",
      "\n",
      "--------------------------------------\n",
      "Top few rows\n",
      "\n",
      "0   NaN\n",
      "1   NaN\n",
      "2   NaN\n",
      "3   NaN\n",
      "4   NaN\n",
      "Name: AMT_ANNUITY, dtype: float64\n",
      "\n",
      "\n",
      "Bottom few rows\n",
      "\n",
      "1716423   NaN\n",
      "1716424   NaN\n",
      "1716425   NaN\n",
      "1716426   NaN\n",
      "1716427   NaN\n",
      "Name: AMT_ANNUITY, dtype: float64\n",
      "\n",
      "--------------------------------------\n",
      "Missing Values: True\n",
      "Total missing: 1226791\n",
      "Percentage:SK_ID_CURR                71.47349\n",
      "SK_ID_BUREAU              71.47349\n",
      "CREDIT_ACTIVE             71.47349\n",
      "CREDIT_CURRENCY           71.47349\n",
      "DAYS_CREDIT               71.47349\n",
      "CREDIT_DAY_OVERDUE        71.47349\n",
      "DAYS_CREDIT_ENDDATE       71.47349\n",
      "DAYS_ENDDATE_FACT         71.47349\n",
      "AMT_CREDIT_MAX_OVERDUE    71.47349\n",
      "CNT_CREDIT_PROLONG        71.47349\n",
      "AMT_CREDIT_SUM            71.47349\n",
      "AMT_CREDIT_SUM_DEBT       71.47349\n",
      "AMT_CREDIT_SUM_LIMIT      71.47349\n",
      "AMT_CREDIT_SUM_OVERDUE    71.47349\n",
      "CREDIT_TYPE               71.47349\n",
      "DAYS_CREDIT_UPDATE        71.47349\n",
      "AMT_ANNUITY               71.47349\n",
      "dtype: float64\n",
      "\n",
      "\n",
      "\n"
     ]
    },
    {
     "data": {
      "image/png": "[encoded data removed]",
      "text/plain": [
       "<matplotlib.figure.Figure at 0x29e874abba8>"
      ]
     },
     "metadata": {},
     "output_type": "display_data"
    }
   ],
   "source": [
    "eda = EDA(bureau_df)\n",
    "eda.explore()"
   ]
  }
 ],
 "metadata": {
  "kernelspec": {
   "display_name": "Python 3",
   "language": "python",
   "name": "python3"
  },
  "language_info": {
   "codemirror_mode": {
    "name": "ipython",
    "version": 3
   },
   "file_extension": ".py",
   "mimetype": "text/x-python",
   "name": "python",
   "nbconvert_exporter": "python",
   "pygments_lexer": "ipython3",
   "version": "3.6.0"
  }
 },
 "nbformat": 4,
 "nbformat_minor": 2
}
